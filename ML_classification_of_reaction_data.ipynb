{
 "cells": [
  {
   "cell_type": "markdown",
   "id": "04e3e62f",
   "metadata": {
    "deletable": false,
    "editable": false,
    "nbgrader": {
     "cell_type": "markdown",
     "checksum": "2befc3722fcaa94e4c4e0f66163eae7a",
     "grade": false,
     "grade_id": "cell-9ef45c82703b28f8",
     "locked": true,
     "schema_version": 3,
     "solution": false,
     "task": false
    }
   },
   "source": [
    "## Assessment: Classification of Reaction data\n",
    "\n",
    "This is an assessment that forms part of the ML for Chemistry workshop for Advanced Topics in Physical Chemistry. \n",
    "\n",
    "### What can/cannot be used for this coursework?\n",
    "**Using Google** to find programmatic solutions to a problem is perfectly acceptable, however if you copy more than a single line of code from an online source make sure you indicate this in the following way with a comment in Python:\n",
    "\n",
    "```python\n",
    "# The following xxx lines follow a solution found here\n",
    "# https://stackoverflow.com/questions/39324039/highlight-typos-in-the-jupyter-notebook-markdown on 20/10/2021\n",
    "```\n",
    "\n",
    "What you **shouldn't have** have to do is:\n",
    "- Install additional packages in your Noteable environment\n",
    "- Use code you do not understand found on the web\n",
    "\n",
    "What is clearly **not allowed**:\n",
    "<div class=\"alert alert-danger\">\n",
    "    You are NOT allowed to send/give/receive Python code to/from classmates and others.\n",
    "The standard examination rules apply to this project.\n",
    "</div>\n",
    "\n",
    "The course will be marked by hand, but will be checked both manually as well as through turn-it-in for plagiarism."
   ]
  },
  {
   "cell_type": "markdown",
   "id": "1792b925",
   "metadata": {
    "deletable": false,
    "editable": false,
    "nbgrader": {
     "cell_type": "markdown",
     "checksum": "e790e1fc9b9df3cfdfc18f1b120fc3cd",
     "grade": false,
     "grade_id": "cell-2a8643fb317ba051",
     "locked": true,
     "schema_version": 3,
     "solution": false,
     "task": false
    }
   },
   "source": [
    "### How is the coursework assessed:\n",
    "\n",
    "Think of this as a guided lab report in the form of a Jupyter notebook with an introduction section exploring the data, two sections on doing the classification problems using Random Forests and a Neural network, and a final section with conclusions and discussions. A skeleton structure for the report is provided in the cells below. \n",
    "\n",
    "- Each part of your code should run.\n",
    "- Every function you write should have an appropriate doc-string.\n",
    "- All plots should be labelled correctly and all fonts should have a legible size.\n",
    "- Write an introduction, a discussion, and a conclusion section in markdown. Use references where appropriate. \n",
    "- Remember you can use LaTeX in markdown by using $$ to start a maths environment. \n",
    "\n",
    "Overall criteria:\n",
    "- 10 % Code presentation and readability\n",
    "- 20 % Production quality (plots, etc.)\n",
    "- 50 % Report structure and readability\n",
    "- 20 % Data interpretation and conclusion\n",
    "\n",
    "**The assessment is worth 20% of the overall module mark.**   \n",
    "\n",
    "**Deadline: 10th March 2023 5pm**   \n",
    "\n",
    "<div class=\"alert alert-success\">\n",
    "Reminder: Comment your code, use markdown to explain your working where appropriate, and make sure all your variable names are sensible! Also make sure to choose appropriate levels of significant figures for print out and make sure you use the correct units. \n",
    "</div>"
   ]
  },
  {
   "cell_type": "markdown",
   "id": "c442e809",
   "metadata": {
    "deletable": false,
    "editable": false,
    "nbgrader": {
     "cell_type": "markdown",
     "checksum": "88e9d2fe3f1e23cb394a63c51b64890f",
     "grade": false,
     "grade_id": "cell-f2af58e2f57200fd",
     "locked": true,
     "schema_version": 3,
     "solution": false,
     "task": false
    }
   },
   "source": [
    "## The Data\n",
    "You will be working with the `QMrxn20: Thousands of reactants and transition states for competing E2 and SN2 reactions` dataset. The whole dataset can be found here: [https://archive.materialscloud.org/record/2020.55](https://archive.materialscloud.org/record/2020.55). It is a dataset of SN2 and E2 reactions with reactant, product, and transition state coordinates. \n",
    "\n",
    "The task:\n",
    "- Use xyz coordinates to classify geometries as forming a transition state geometry (1) and another geometry (0)\n",
    "- Use a Random Forest as a classifier similar to the one in Unit 2 for this task\n",
    "- Use a neural network similar to the one in Unit 3 for this task\n",
    "\n",
    "The file `dataset.csv` contains the prerocessed data for these tasks from the original dataset. In this dataset coordinates and information on energies etc have been already combined, and the data has been subsampled down to ~80k datapoints.\n",
    "\n",
    "The structure of the dataset looks as follows:\n",
    "\n",
    "```\n",
    "label,reaction,geometry,number,energy,method,element_0, element_0,x coordinates_0,y coordinates_0,z coordinates_0,element_1,...,z_coordinates_20\n",
    "A_A_A_A_A_A,e2,ts,0,transition-states/e2/A_A_A_A_A_A.xyz,-179.132058577095,mp2,C,-0.04447,-0.0119,-0.3780,C,...,-0.153736\n",
    "A_A_A_A_B_A,e2,ts,0,-539.161015594451,mp2,F,-0.044,-0.011,-0.3780,C,-0.1537 \n",
    "```\n",
    "\n",
    "You find the label for the data in the column named geometry. If it is `ts`, i.e. a transition state, the label should be 1, if it is anything else the label should be 0. You will need to prepare the label in such a way that you can train on it. Columns 7 to the end contain the x,y,z coordinates. Train on the coordinates, but be careful not to include the element names as well! \n",
    "\n",
    "### External references\n",
    "**Journal reference**\n",
    "G. F. von Rudorff, S. N. Heinen, M. Bragato, O. A. von Lilienfeld, Machine Learning: Science and Technology 1, 045026 (2020). doi:10.1088/2632-2153/aba822\n",
    "\n",
    "**Preprint (Preprint where the data generation is discussed)**\n",
    "G. F. von Rudorff, S. N. Heinen, M. Bragato, O. A. von Lilienfeld, arXiv:2006.00504\n",
    "\n",
    "------"
   ]
  },
  {
   "cell_type": "code",
   "execution_count": 1,
   "id": "76fb0784",
   "metadata": {},
   "outputs": [],
   "source": [
    "#imports\n",
    "import numpy as np\n",
    "import matplotlib.pyplot as plt\n",
    "import seaborn as sns\n",
    "import math\n",
    "import random\n",
    "import pandas as pd\n",
    "import time"
   ]
  },
  {
   "cell_type": "markdown",
   "id": "4de80039",
   "metadata": {
    "deletable": false,
    "editable": false,
    "nbgrader": {
     "cell_type": "markdown",
     "checksum": "714ecba70de035bdd2166955bb156f6f",
     "grade": false,
     "grade_id": "cell-2805997de6b5d9cb",
     "locked": true,
     "schema_version": 3,
     "solution": false,
     "task": false
    }
   },
   "source": [
    "## Start of the Report\n",
    "\n",
    "Please leave the header sections as you find them, but feel free to add as many cells in each section as you need to answer them. "
   ]
  },
  {
   "cell_type": "markdown",
   "id": "02bd743a",
   "metadata": {
    "deletable": false,
    "editable": false,
    "nbgrader": {
     "cell_type": "markdown",
     "checksum": "0e3d918507beb22e5f779c7ad42ce0df",
     "grade": false,
     "grade_id": "cell-b1536fc35001e526",
     "locked": true,
     "points": 10,
     "schema_version": 3,
     "solution": false,
     "task": true
    }
   },
   "source": [
    "## 1. Introduction and exploring the data\n",
    "\n",
    "In the directory `data` you will find a file called `dataset.csv`. Freely explore the dataset in this section.\n",
    "\n",
    "Things you definitely need:\n",
    "\n",
    "- an **array of labels** which you can extract from the column geometries (1-ts, 0-everything else)\n",
    "- an **array of x, y, and z coordinates** for all elements. \n",
    "\n",
    "Some of the coordinates will be 0 because the molecule has less than 21 atoms. Please explore some statistics around the data. \n",
    "\n",
    "In this part of your submission notebook you should also introduce what a classification problem is, and this dataset in particular."
   ]
  },
  {
   "cell_type": "markdown",
   "id": "893f7ba4",
   "metadata": {},
   "source": [
    "### Importing the data\n",
    "\n",
    "The pandas library was used to import the raw data:"
   ]
  },
  {
   "cell_type": "code",
   "execution_count": 2,
   "id": "55107655",
   "metadata": {
    "scrolled": true
   },
   "outputs": [
    {
     "name": "stderr",
     "output_type": "stream",
     "text": [
      "/tmp/ipykernel_178/3907693696.py:3: DtypeWarning: Columns (74,78,82,86) have mixed types. Specify dtype option on import or set low_memory=False.\n",
      "  df=pd.read_csv(\"data/dataset.csv\")\n"
     ]
    },
    {
     "data": {
      "text/html": [
       "<div>\n",
       "<style scoped>\n",
       "    .dataframe tbody tr th:only-of-type {\n",
       "        vertical-align: middle;\n",
       "    }\n",
       "\n",
       "    .dataframe tbody tr th {\n",
       "        vertical-align: top;\n",
       "    }\n",
       "\n",
       "    .dataframe thead th {\n",
       "        text-align: right;\n",
       "    }\n",
       "</style>\n",
       "<table border=\"1\" class=\"dataframe\">\n",
       "  <thead>\n",
       "    <tr style=\"text-align: right;\">\n",
       "      <th></th>\n",
       "      <th>label</th>\n",
       "      <th>reaction</th>\n",
       "      <th>geometry</th>\n",
       "      <th>number</th>\n",
       "      <th>energy</th>\n",
       "      <th>method</th>\n",
       "      <th>element_0</th>\n",
       "      <th>x coordinates_0</th>\n",
       "      <th>y coordinates_0</th>\n",
       "      <th>z coordinates_0</th>\n",
       "      <th>...</th>\n",
       "      <th>y coordinates_18</th>\n",
       "      <th>z coordinates_18</th>\n",
       "      <th>element_19</th>\n",
       "      <th>x coordinates_19</th>\n",
       "      <th>y coordinates_19</th>\n",
       "      <th>z coordinates_19</th>\n",
       "      <th>element_20</th>\n",
       "      <th>x coordinates_20</th>\n",
       "      <th>y coordinates_20</th>\n",
       "      <th>z coordinates_20</th>\n",
       "    </tr>\n",
       "  </thead>\n",
       "  <tbody>\n",
       "    <tr>\n",
       "      <th>0</th>\n",
       "      <td>A_A_A_A_A_A</td>\n",
       "      <td>e2</td>\n",
       "      <td>ts</td>\n",
       "      <td>0</td>\n",
       "      <td>-179.132059</td>\n",
       "      <td>mp2</td>\n",
       "      <td>C</td>\n",
       "      <td>-0.044472</td>\n",
       "      <td>-0.011945</td>\n",
       "      <td>-0.378067</td>\n",
       "      <td>...</td>\n",
       "      <td>NaN</td>\n",
       "      <td>NaN</td>\n",
       "      <td>NaN</td>\n",
       "      <td>NaN</td>\n",
       "      <td>NaN</td>\n",
       "      <td>NaN</td>\n",
       "      <td>NaN</td>\n",
       "      <td>NaN</td>\n",
       "      <td>NaN</td>\n",
       "      <td>NaN</td>\n",
       "    </tr>\n",
       "    <tr>\n",
       "      <th>1</th>\n",
       "      <td>A_A_A_A_C_A</td>\n",
       "      <td>e2</td>\n",
       "      <td>ts</td>\n",
       "      <td>0</td>\n",
       "      <td>-2652.360662</td>\n",
       "      <td>mp2</td>\n",
       "      <td>C</td>\n",
       "      <td>-0.157149</td>\n",
       "      <td>0.002342</td>\n",
       "      <td>-0.370737</td>\n",
       "      <td>...</td>\n",
       "      <td>NaN</td>\n",
       "      <td>NaN</td>\n",
       "      <td>NaN</td>\n",
       "      <td>NaN</td>\n",
       "      <td>NaN</td>\n",
       "      <td>NaN</td>\n",
       "      <td>NaN</td>\n",
       "      <td>NaN</td>\n",
       "      <td>NaN</td>\n",
       "      <td>NaN</td>\n",
       "    </tr>\n",
       "    <tr>\n",
       "      <th>2</th>\n",
       "      <td>A_A_A_C_B_C</td>\n",
       "      <td>e2</td>\n",
       "      <td>ts</td>\n",
       "      <td>0</td>\n",
       "      <td>-1090.478159</td>\n",
       "      <td>mp2</td>\n",
       "      <td>C</td>\n",
       "      <td>-0.103842</td>\n",
       "      <td>-0.000232</td>\n",
       "      <td>-0.417914</td>\n",
       "      <td>...</td>\n",
       "      <td>NaN</td>\n",
       "      <td>NaN</td>\n",
       "      <td>NaN</td>\n",
       "      <td>NaN</td>\n",
       "      <td>NaN</td>\n",
       "      <td>NaN</td>\n",
       "      <td>NaN</td>\n",
       "      <td>NaN</td>\n",
       "      <td>NaN</td>\n",
       "      <td>NaN</td>\n",
       "    </tr>\n",
       "    <tr>\n",
       "      <th>3</th>\n",
       "      <td>A_A_A_D_B_C</td>\n",
       "      <td>e2</td>\n",
       "      <td>ts</td>\n",
       "      <td>0</td>\n",
       "      <td>-1037.585093</td>\n",
       "      <td>mp2</td>\n",
       "      <td>C</td>\n",
       "      <td>-0.348840</td>\n",
       "      <td>0.051602</td>\n",
       "      <td>-0.273416</td>\n",
       "      <td>...</td>\n",
       "      <td>NaN</td>\n",
       "      <td>NaN</td>\n",
       "      <td>NaN</td>\n",
       "      <td>NaN</td>\n",
       "      <td>NaN</td>\n",
       "      <td>NaN</td>\n",
       "      <td>NaN</td>\n",
       "      <td>NaN</td>\n",
       "      <td>NaN</td>\n",
       "      <td>NaN</td>\n",
       "    </tr>\n",
       "    <tr>\n",
       "      <th>4</th>\n",
       "      <td>A_A_A_E_B_A</td>\n",
       "      <td>e2</td>\n",
       "      <td>ts</td>\n",
       "      <td>0</td>\n",
       "      <td>-594.392336</td>\n",
       "      <td>mp2</td>\n",
       "      <td>C</td>\n",
       "      <td>-0.061746</td>\n",
       "      <td>0.050678</td>\n",
       "      <td>-0.424045</td>\n",
       "      <td>...</td>\n",
       "      <td>NaN</td>\n",
       "      <td>NaN</td>\n",
       "      <td>NaN</td>\n",
       "      <td>NaN</td>\n",
       "      <td>NaN</td>\n",
       "      <td>NaN</td>\n",
       "      <td>NaN</td>\n",
       "      <td>NaN</td>\n",
       "      <td>NaN</td>\n",
       "      <td>NaN</td>\n",
       "    </tr>\n",
       "    <tr>\n",
       "      <th>...</th>\n",
       "      <td>...</td>\n",
       "      <td>...</td>\n",
       "      <td>...</td>\n",
       "      <td>...</td>\n",
       "      <td>...</td>\n",
       "      <td>...</td>\n",
       "      <td>...</td>\n",
       "      <td>...</td>\n",
       "      <td>...</td>\n",
       "      <td>...</td>\n",
       "      <td>...</td>\n",
       "      <td>...</td>\n",
       "      <td>...</td>\n",
       "      <td>...</td>\n",
       "      <td>...</td>\n",
       "      <td>...</td>\n",
       "      <td>...</td>\n",
       "      <td>...</td>\n",
       "      <td>...</td>\n",
       "      <td>...</td>\n",
       "      <td>...</td>\n",
       "    </tr>\n",
       "    <tr>\n",
       "      <th>81565</th>\n",
       "      <td>E_E_C_C_B_B</td>\n",
       "      <td>sn2</td>\n",
       "      <td>rcu</td>\n",
       "      <td>18</td>\n",
       "      <td>-931.237677</td>\n",
       "      <td>hf</td>\n",
       "      <td>C</td>\n",
       "      <td>-0.537452</td>\n",
       "      <td>-0.051456</td>\n",
       "      <td>-1.456212</td>\n",
       "      <td>...</td>\n",
       "      <td>NaN</td>\n",
       "      <td>NaN</td>\n",
       "      <td>NaN</td>\n",
       "      <td>NaN</td>\n",
       "      <td>NaN</td>\n",
       "      <td>NaN</td>\n",
       "      <td>NaN</td>\n",
       "      <td>NaN</td>\n",
       "      <td>NaN</td>\n",
       "      <td>NaN</td>\n",
       "    </tr>\n",
       "    <tr>\n",
       "      <th>81566</th>\n",
       "      <td>E_E_D_D_A_A</td>\n",
       "      <td>sn2</td>\n",
       "      <td>rcu</td>\n",
       "      <td>0</td>\n",
       "      <td>-368.061328</td>\n",
       "      <td>mp2</td>\n",
       "      <td>C</td>\n",
       "      <td>-0.438902</td>\n",
       "      <td>-0.000059</td>\n",
       "      <td>-1.530075</td>\n",
       "      <td>...</td>\n",
       "      <td>NaN</td>\n",
       "      <td>NaN</td>\n",
       "      <td>NaN</td>\n",
       "      <td>NaN</td>\n",
       "      <td>NaN</td>\n",
       "      <td>NaN</td>\n",
       "      <td>NaN</td>\n",
       "      <td>NaN</td>\n",
       "      <td>NaN</td>\n",
       "      <td>NaN</td>\n",
       "    </tr>\n",
       "    <tr>\n",
       "      <th>81567</th>\n",
       "      <td>E_E_D_D_A_A</td>\n",
       "      <td>sn2</td>\n",
       "      <td>rcu</td>\n",
       "      <td>7</td>\n",
       "      <td>-368.328083</td>\n",
       "      <td>lccsd</td>\n",
       "      <td>C</td>\n",
       "      <td>-0.413479</td>\n",
       "      <td>-0.002606</td>\n",
       "      <td>-1.520018</td>\n",
       "      <td>...</td>\n",
       "      <td>NaN</td>\n",
       "      <td>NaN</td>\n",
       "      <td>NaN</td>\n",
       "      <td>NaN</td>\n",
       "      <td>NaN</td>\n",
       "      <td>NaN</td>\n",
       "      <td>NaN</td>\n",
       "      <td>NaN</td>\n",
       "      <td>NaN</td>\n",
       "      <td>NaN</td>\n",
       "    </tr>\n",
       "    <tr>\n",
       "      <th>81568</th>\n",
       "      <td>E_E_D_D_A_A</td>\n",
       "      <td>sn2</td>\n",
       "      <td>rcu</td>\n",
       "      <td>12</td>\n",
       "      <td>-366.795817</td>\n",
       "      <td>hf</td>\n",
       "      <td>C</td>\n",
       "      <td>-0.155387</td>\n",
       "      <td>0.022518</td>\n",
       "      <td>-1.621509</td>\n",
       "      <td>...</td>\n",
       "      <td>NaN</td>\n",
       "      <td>NaN</td>\n",
       "      <td>NaN</td>\n",
       "      <td>NaN</td>\n",
       "      <td>NaN</td>\n",
       "      <td>NaN</td>\n",
       "      <td>NaN</td>\n",
       "      <td>NaN</td>\n",
       "      <td>NaN</td>\n",
       "      <td>NaN</td>\n",
       "    </tr>\n",
       "    <tr>\n",
       "      <th>81569</th>\n",
       "      <td>E_E_D_D_A_A</td>\n",
       "      <td>sn2</td>\n",
       "      <td>rcu</td>\n",
       "      <td>18</td>\n",
       "      <td>-368.060586</td>\n",
       "      <td>mp2</td>\n",
       "      <td>C</td>\n",
       "      <td>-0.129382</td>\n",
       "      <td>0.016990</td>\n",
       "      <td>-1.626763</td>\n",
       "      <td>...</td>\n",
       "      <td>NaN</td>\n",
       "      <td>NaN</td>\n",
       "      <td>NaN</td>\n",
       "      <td>NaN</td>\n",
       "      <td>NaN</td>\n",
       "      <td>NaN</td>\n",
       "      <td>NaN</td>\n",
       "      <td>NaN</td>\n",
       "      <td>NaN</td>\n",
       "      <td>NaN</td>\n",
       "    </tr>\n",
       "  </tbody>\n",
       "</table>\n",
       "<p>81570 rows × 90 columns</p>\n",
       "</div>"
      ],
      "text/plain": [
       "             label reaction geometry  number       energy method element_0  \\\n",
       "0      A_A_A_A_A_A       e2       ts       0  -179.132059    mp2         C   \n",
       "1      A_A_A_A_C_A       e2       ts       0 -2652.360662    mp2         C   \n",
       "2      A_A_A_C_B_C       e2       ts       0 -1090.478159    mp2         C   \n",
       "3      A_A_A_D_B_C       e2       ts       0 -1037.585093    mp2         C   \n",
       "4      A_A_A_E_B_A       e2       ts       0  -594.392336    mp2         C   \n",
       "...            ...      ...      ...     ...          ...    ...       ...   \n",
       "81565  E_E_C_C_B_B      sn2      rcu      18  -931.237677     hf         C   \n",
       "81566  E_E_D_D_A_A      sn2      rcu       0  -368.061328    mp2         C   \n",
       "81567  E_E_D_D_A_A      sn2      rcu       7  -368.328083  lccsd         C   \n",
       "81568  E_E_D_D_A_A      sn2      rcu      12  -366.795817     hf         C   \n",
       "81569  E_E_D_D_A_A      sn2      rcu      18  -368.060586    mp2         C   \n",
       "\n",
       "       x coordinates_0  y coordinates_0  z coordinates_0  ...  \\\n",
       "0            -0.044472        -0.011945        -0.378067  ...   \n",
       "1            -0.157149         0.002342        -0.370737  ...   \n",
       "2            -0.103842        -0.000232        -0.417914  ...   \n",
       "3            -0.348840         0.051602        -0.273416  ...   \n",
       "4            -0.061746         0.050678        -0.424045  ...   \n",
       "...                ...              ...              ...  ...   \n",
       "81565        -0.537452        -0.051456        -1.456212  ...   \n",
       "81566        -0.438902        -0.000059        -1.530075  ...   \n",
       "81567        -0.413479        -0.002606        -1.520018  ...   \n",
       "81568        -0.155387         0.022518        -1.621509  ...   \n",
       "81569        -0.129382         0.016990        -1.626763  ...   \n",
       "\n",
       "      y coordinates_18  z coordinates_18  element_19  x coordinates_19  \\\n",
       "0                  NaN               NaN         NaN               NaN   \n",
       "1                  NaN               NaN         NaN               NaN   \n",
       "2                  NaN               NaN         NaN               NaN   \n",
       "3                  NaN               NaN         NaN               NaN   \n",
       "4                  NaN               NaN         NaN               NaN   \n",
       "...                ...               ...         ...               ...   \n",
       "81565              NaN               NaN         NaN               NaN   \n",
       "81566              NaN               NaN         NaN               NaN   \n",
       "81567              NaN               NaN         NaN               NaN   \n",
       "81568              NaN               NaN         NaN               NaN   \n",
       "81569              NaN               NaN         NaN               NaN   \n",
       "\n",
       "      y coordinates_19  z coordinates_19  element_20  x coordinates_20  \\\n",
       "0                  NaN               NaN         NaN               NaN   \n",
       "1                  NaN               NaN         NaN               NaN   \n",
       "2                  NaN               NaN         NaN               NaN   \n",
       "3                  NaN               NaN         NaN               NaN   \n",
       "4                  NaN               NaN         NaN               NaN   \n",
       "...                ...               ...         ...               ...   \n",
       "81565              NaN               NaN         NaN               NaN   \n",
       "81566              NaN               NaN         NaN               NaN   \n",
       "81567              NaN               NaN         NaN               NaN   \n",
       "81568              NaN               NaN         NaN               NaN   \n",
       "81569              NaN               NaN         NaN               NaN   \n",
       "\n",
       "      y coordinates_20  z coordinates_20  \n",
       "0                  NaN               NaN  \n",
       "1                  NaN               NaN  \n",
       "2                  NaN               NaN  \n",
       "3                  NaN               NaN  \n",
       "4                  NaN               NaN  \n",
       "...                ...               ...  \n",
       "81565              NaN               NaN  \n",
       "81566              NaN               NaN  \n",
       "81567              NaN               NaN  \n",
       "81568              NaN               NaN  \n",
       "81569              NaN               NaN  \n",
       "\n",
       "[81570 rows x 90 columns]"
      ]
     },
     "execution_count": 2,
     "metadata": {},
     "output_type": "execute_result"
    }
   ],
   "source": [
    "# Load data as a pandas dataframe. This will allow us to obtain the desired arrays. \n",
    "\n",
    "df=pd.read_csv(\"data/dataset.csv\")\n",
    "\n",
    "df"
   ]
  },
  {
   "cell_type": "markdown",
   "id": "96298b55",
   "metadata": {},
   "source": [
    "### Exploring the data"
   ]
  },
  {
   "cell_type": "markdown",
   "id": "bed00844",
   "metadata": {},
   "source": [
    "Number of e2 and sn2 reactions stored in the data:"
   ]
  },
  {
   "cell_type": "code",
   "execution_count": 3,
   "id": "dbe59eb0",
   "metadata": {},
   "outputs": [
    {
     "name": "stdout",
     "output_type": "stream",
     "text": [
      "The number of e2 reactions present is 39004\n",
      "The number of sn2 reactions present is 31767\n",
      "The number of unspecified reactions is 10799\n"
     ]
    }
   ],
   "source": [
    "l_react=list(df['reaction'].to_numpy())\n",
    "\n",
    "print('The number of e2 reactions present is ' + str(l_react.count('e2')))\n",
    "print('The number of sn2 reactions present is ' + str(l_react.count('sn2')))\n",
    "print('The number of unspecified reactions is ' + str(l_react.count('-')))\n"
   ]
  },
  {
   "cell_type": "markdown",
   "id": "58ba8d77",
   "metadata": {},
   "source": [
    "Number of transition states, reactants and products:"
   ]
  },
  {
   "cell_type": "code",
   "execution_count": 4,
   "id": "1208beae",
   "metadata": {},
   "outputs": [],
   "source": [
    "#convert geometry column to an array\n",
    "geo_array=df['geometry'].to_numpy()\n",
    "\n",
    "geo_types=np.zeros(len(geo_array)) \n",
    "\n",
    "for n in range(len(geo_array)):\n",
    "    if geo_array[n]=='ts': \n",
    "        geo_types[n]=1 #transition state \n",
    "        \n",
    "    elif geo_array[n]=='rcu' or geo_array[n]=='r' or geo_array[n]=='rcc': \n",
    "        geo_types[n]=0 #reactant\n",
    "        \n",
    "    else:\n",
    "        geo_types[n]=2 #product"
   ]
  },
  {
   "cell_type": "code",
   "execution_count": 5,
   "id": "42b397b8",
   "metadata": {},
   "outputs": [
    {
     "data": {
      "image/png": "[encoded data removed]",
      "text/plain": [
       "<Figure size 432x288 with 1 Axes>"
      ]
     },
     "metadata": {
      "needs_background": "light"
     },
     "output_type": "display_data"
    }
   ],
   "source": [
    "\"\"\"\n",
    "code for bar chart taken from \n",
    "https://matplotlib.org/stable/gallery/lines_bars_and_markers/bar_label_demo.html on 13/03/2023\n",
    "\"\"\"\n",
    "n_r=list(geo_types).count(0)\n",
    "n_t=list(geo_types).count(1)\n",
    "n_p=list(geo_types).count(2)\n",
    "\n",
    "species_names = ['reactant', 'transition state', 'product']\n",
    "species_counts = [n_r, n_t, n_p]\n",
    "\n",
    "fig, ax = plt.subplots()\n",
    "bar_container = ax.bar(species_names, species_counts)\n",
    "ax.set(ylabel='Number of stored species', title='Types of species stored')\n",
    "ax.bar_label(bar_container)\n",
    "fig.show()"
   ]
  },
  {
   "cell_type": "markdown",
   "id": "133d21cc",
   "metadata": {},
   "source": [
    "As can be seen from the figure above, only 3.28 % of the stored species are transition states. This suggests that most of our predicted labels for the binary RF classifier (see section 2) will be 0 (non-transition state)."
   ]
  },
  {
   "cell_type": "markdown",
   "id": "c2e48b74",
   "metadata": {},
   "source": [
    "Extracting array of labels and atom geometries:"
   ]
  },
  {
   "cell_type": "code",
   "execution_count": 6,
   "id": "96e43e98",
   "metadata": {},
   "outputs": [
    {
     "name": "stdout",
     "output_type": "stream",
     "text": [
      "['ts' 'ts' 'ts' ... 'rcu' 'rcu' 'rcu']\n",
      "[1. 1. 1. ... 0. 0. 0.]\n"
     ]
    }
   ],
   "source": [
    "#convert geometry column to an array\n",
    "geo_array=df['geometry'].to_numpy()\n",
    "\n",
    "geo_index=np.zeros(len(geo_array)) #set NaN values to 0\n",
    "\n",
    "for n in range(len(geo_array)):\n",
    "    if geo_array[n]=='ts': #if transition state present, set element to 1\n",
    "        geo_index[n]=1\n",
    "\n",
    "print(geo_array) #sanity check\n",
    "print(geo_index)    "
   ]
  },
  {
   "cell_type": "code",
   "execution_count": 7,
   "id": "92a3762a",
   "metadata": {},
   "outputs": [],
   "source": [
    "df_coord=df.copy() #create copy of original data to extract x,y,z coordinates\n",
    "\n",
    "df_coord.drop(columns=['label', 'reaction', 'geometry', 'number', 'energy', 'method'], inplace=True) \n",
    "\n",
    "for n in range(21):\n",
    "    column_name=\"element_\" + str(n)\n",
    "    df_coord.drop(columns=[column_name], inplace=True) #remove element names\n",
    "\n",
    "xyz=df_coord.to_numpy() #convert to an array of x,y,z coordinates\n",
    "xyz=np.nan_to_num(xyz, nan=0.0) #replace NaN with 0.0"
   ]
  },
  {
   "cell_type": "code",
   "execution_count": 8,
   "id": "a3dc6c63",
   "metadata": {},
   "outputs": [
    {
     "data": {
      "image/png": "[encoded data removed]",
      "text/plain": [
       "<Figure size 432x288 with 1 Axes>"
      ]
     },
     "metadata": {
      "needs_background": "light"
     },
     "output_type": "display_data"
    }
   ],
   "source": [
    "n_atoms=[]\n",
    "\n",
    "for i in range(len(xyz)):\n",
    "    n=np.count_nonzero(xyz[i])\n",
    "    n_atoms.append(int(n/3))\n",
    "  \n",
    "plt.title('Sizes of stored species')\n",
    "plt.ylabel('Number of species')\n",
    "plt.xlabel('Number of atoms in a species')\n",
    "plt.hist(n_atoms, bins=15)\n",
    "plt.show()"
   ]
  },
  {
   "cell_type": "markdown",
   "id": "64de4ff7",
   "metadata": {},
   "source": [
    "### What is a classification problem?\n",
    "\n",
    "In the field of machine learning, a classification problem refers to a task where a trained model predicts a class label given certain input data. Classification problems can be found in a variety of applications, such as in facial recognition, image classification and fraud detection. In this assessment, the input data refers to a set of coordinates for the constituent atoms of a given species. A ML model then predicts whether the input data describes a transition state or a non-transition state. The neural network discussed in part 3 can also differentiate between products and reactants."
   ]
  },
  {
   "cell_type": "markdown",
   "id": "64e70bea",
   "metadata": {
    "deletable": false,
    "editable": false,
    "nbgrader": {
     "cell_type": "markdown",
     "checksum": "e943ed19514c4961f4281825083b5f36",
     "grade": false,
     "grade_id": "cell-58531a2f237b7aec",
     "locked": true,
     "points": 10,
     "schema_version": 3,
     "solution": false,
     "task": true
    }
   },
   "source": [
    "## 2. Classify the reaction data into reactant, transition state, and product using a Random Forests\n",
    "\n",
    "Here you will use your labels and x,y,z coordinates to train a Random Forests classifier to identify transition states from non-transition states. You may need to set NaN coordinate entries to 0 for this to work."
   ]
  },
  {
   "cell_type": "markdown",
   "id": "8975d4fd",
   "metadata": {},
   "source": [
    "Using the sklearn library, the arrays of labels and xyz coordinates were split into training and testing sets, with 80% of the data being used for training, and the other 20% being used for testing:"
   ]
  },
  {
   "cell_type": "code",
   "execution_count": 9,
   "id": "b8df2fdf",
   "metadata": {},
   "outputs": [],
   "source": [
    "# Split data into test and training sets\n",
    "\n",
    "from sklearn.model_selection import train_test_split\n",
    "\n",
    "xyz_train, xyz_test, geo_train, geo_test=train_test_split(xyz, geo_index, test_size=0.20)"
   ]
  },
  {
   "cell_type": "code",
   "execution_count": 11,
   "id": "0c91b322",
   "metadata": {},
   "outputs": [
    {
     "name": "stdout",
     "output_type": "stream",
     "text": [
      "(65256, 63)\n",
      "(65256,)\n",
      "(16314, 63)\n",
      "(16314,)\n"
     ]
    }
   ],
   "source": [
    "print(xyz_train.shape)\n",
    "print(geo_train.shape)\n",
    "print(xyz_test.shape)\n",
    "print(geo_test.shape)"
   ]
  },
  {
   "cell_type": "markdown",
   "id": "f097699e",
   "metadata": {},
   "source": [
    "We can now set up a RandomForest classifier model, and train the model using the previously assembled training set of coordinates:"
   ]
  },
  {
   "cell_type": "code",
   "execution_count": 10,
   "id": "65135bab",
   "metadata": {},
   "outputs": [],
   "source": [
    "from sklearn.ensemble import RandomForestClassifier\n",
    "\n",
    "#RF=RandomForestClassifier(n_estimators=25)\n",
    "#RF.fit(xyz_train, geo_train)"
   ]
  },
  {
   "cell_type": "markdown",
   "id": "203bfffc",
   "metadata": {},
   "source": [
    "We now define a function to indicate the success of our model (code based on ML workshop 2):"
   ]
  },
  {
   "cell_type": "code",
   "execution_count": 11,
   "id": "f6850953",
   "metadata": {},
   "outputs": [],
   "source": [
    "def RF_success(RF, test_data, test_labels):\n",
    "    \"\"\"\n",
    "    Returns the success rate of a given RF binary classifier based on \n",
    "    its performance in predicting the outcomes of the supplied test set.\n",
    "    \n",
    "    :param RF: RandomForestClassifier model\n",
    "    :param test_data: array of test data\n",
    "    :param test_labels: binary array of outcomes for the test dataset\n",
    "    :return: percentage success of the RF model\n",
    "    \"\"\"    \n",
    "    r = RF.predict(test_data)\n",
    "    success = np.sum((r-test_labels)==0)\n",
    "    percent = float(success)/len(test_labels)*100\n",
    "    \n",
    "    return percent"
   ]
  },
  {
   "cell_type": "markdown",
   "id": "3ea30b04",
   "metadata": {},
   "source": [
    "A key parameter in a RF model is the number of trees, or classifiers. A larger number of trees implies greater success, but also incurs the cost of extra computation. We can vary the number of trees while using the same test and train datasets to estimate the minimum number of estimators required for a satisfactory level of success:"
   ]
  },
  {
   "cell_type": "code",
   "execution_count": 14,
   "id": "fa50fcef",
   "metadata": {},
   "outputs": [],
   "source": [
    "data_list=[]\n",
    "n_trees=[]\n",
    "times=[]\n",
    "\n",
    "for n in range(5, 50):\n",
    "    \n",
    "    xyz_train, xyz_test, geo_train, geo_test=train_test_split(xyz, geo_index, test_size=0.20)\n",
    "       \n",
    "    start_time = time.time() #start timer\n",
    "    \n",
    "    RF=RandomForestClassifier(n_estimators=n) #reinitialise the RF classifier\n",
    "    RF.fit(xyz_train, geo_train)\n",
    "    \n",
    "    t=(time.time() - start_time) #end timer\n",
    "    \n",
    "    success=RF_success(RF, xyz_test, geo_test)\n",
    "\n",
    "    data_list.append(success)\n",
    "    n_trees.append(n)\n",
    "    times.append(t)  \n",
    "\n",
    "data_array=np.array(data_list)\n",
    "RF_estimators=pd.DataFrame(data_array, index=None, columns=np.array(['Accuracy (%)']))\n",
    "RF_estimators['Number of trees']=np.array(n_trees)\n",
    "RF_estimators['Accuracy (%)']=data_array\n",
    "RF_estimators['Runtime (s)']=np.array(times)"
   ]
  },
  {
   "cell_type": "code",
   "execution_count": null,
   "id": "c03b021e",
   "metadata": {},
   "outputs": [],
   "source": [
    "RF_estimators.head()"
   ]
  },
  {
   "cell_type": "markdown",
   "id": "d30b682a",
   "metadata": {},
   "source": [
    "n_estimators=25 was chosen, and the model was initialised, trained and tested 50 times:"
   ]
  },
  {
   "cell_type": "code",
   "execution_count": 19,
   "id": "418c010d",
   "metadata": {},
   "outputs": [],
   "source": [
    "data_list=[]\n",
    "\n",
    "for i in range(50):\n",
    "\n",
    "    xyz_train, xyz_test, geo_train, geo_test=train_test_split(xyz, geo_index, test_size=0.20)\n",
    "\n",
    "    RF_model=RandomForestClassifier(n_estimators=25)\n",
    "    RF_model.fit(xyz_train, geo_train)\n",
    "\n",
    "    percent=RF_success(RF_model, xyz_test, geo_test)\n",
    "\n",
    "    data_list.append(percent)\n",
    "\n",
    "data_array=np.array(data_list)\n",
    "df_RF=pd.DataFrame(data_array, index=None, columns=np.array(['Accuracy (%)']))"
   ]
  },
  {
   "cell_type": "code",
   "execution_count": 22,
   "id": "8aef9ca8",
   "metadata": {},
   "outputs": [
    {
     "data": {
      "text/html": [
       "<div>\n",
       "<style scoped>\n",
       "    .dataframe tbody tr th:only-of-type {\n",
       "        vertical-align: middle;\n",
       "    }\n",
       "\n",
       "    .dataframe tbody tr th {\n",
       "        vertical-align: top;\n",
       "    }\n",
       "\n",
       "    .dataframe thead th {\n",
       "        text-align: right;\n",
       "    }\n",
       "</style>\n",
       "<table border=\"1\" class=\"dataframe\">\n",
       "  <thead>\n",
       "    <tr style=\"text-align: right;\">\n",
       "      <th></th>\n",
       "      <th>Accuracy (%)</th>\n",
       "    </tr>\n",
       "  </thead>\n",
       "  <tbody>\n",
       "    <tr>\n",
       "      <th>0</th>\n",
       "      <td>99.981611</td>\n",
       "    </tr>\n",
       "    <tr>\n",
       "      <th>1</th>\n",
       "      <td>100.000000</td>\n",
       "    </tr>\n",
       "    <tr>\n",
       "      <th>2</th>\n",
       "      <td>99.981611</td>\n",
       "    </tr>\n",
       "    <tr>\n",
       "      <th>3</th>\n",
       "      <td>99.975481</td>\n",
       "    </tr>\n",
       "    <tr>\n",
       "      <th>4</th>\n",
       "      <td>100.000000</td>\n",
       "    </tr>\n",
       "  </tbody>\n",
       "</table>\n",
       "</div>"
      ],
      "text/plain": [
       "   Accuracy (%)\n",
       "0     99.981611\n",
       "1    100.000000\n",
       "2     99.981611\n",
       "3     99.975481\n",
       "4    100.000000"
      ]
     },
     "execution_count": 22,
     "metadata": {},
     "output_type": "execute_result"
    }
   ],
   "source": [
    "df_RF.head()"
   ]
  },
  {
   "cell_type": "markdown",
   "id": "91456025",
   "metadata": {},
   "source": [
    "Using our 50 simulations, we can calculate the average success percentage of our model:"
   ]
  },
  {
   "cell_type": "code",
   "execution_count": 26,
   "id": "993e5a34",
   "metadata": {},
   "outputs": [
    {
     "data": {
      "text/plain": [
       "99.98908912590414"
      ]
     },
     "execution_count": 26,
     "metadata": {},
     "output_type": "execute_result"
    }
   ],
   "source": [
    "av_accuracy=np.average(df_RF['Accuracy (%)'].to_numpy())\n",
    "av_accuracy"
   ]
  },
  {
   "cell_type": "code",
   "execution_count": 24,
   "id": "adf9d4bc",
   "metadata": {},
   "outputs": [
    {
     "data": {
      "text/plain": [
       "0.0011538181749028"
      ]
     },
     "execution_count": 24,
     "metadata": {},
     "output_type": "execute_result"
    }
   ],
   "source": [
    "error=(np.std(df_RF['Accuracy (%)'].to_numpy()))/np.sqrt(50)\n",
    "error"
   ]
  },
  {
   "cell_type": "markdown",
   "id": "24f74aab",
   "metadata": {},
   "source": [
    "<div class=\"alert alert-info\">\n",
    "    <b>Key result:</b>  \n",
    "\n",
    "Calculated accuracy of our RandomForest classifier model: \n",
    "\n",
    "$success=99.9891(12) \\ \\%$\n",
    "    \n",
    "<div>\n"
   ]
  },
  {
   "cell_type": "code",
   "execution_count": 12,
   "id": "b485a108",
   "metadata": {},
   "outputs": [],
   "source": [
    "from sklearn.metrics import confusion_matrix, roc_curve,auc"
   ]
  },
  {
   "cell_type": "markdown",
   "id": "b297a410",
   "metadata": {},
   "source": [
    "Section 4 discusses the behaviour of our RF model in more detail, as well as discussing the resulting confusion matrix and ROC curve."
   ]
  },
  {
   "cell_type": "markdown",
   "id": "fd1c7f5a",
   "metadata": {
    "deletable": false,
    "editable": false,
    "nbgrader": {
     "cell_type": "markdown",
     "checksum": "45415ddf8a104e750b0c6a9e5ce7e2e6",
     "grade": false,
     "grade_id": "cell-ddec8a6427490967",
     "locked": true,
     "points": 10,
     "schema_version": 3,
     "solution": false,
     "task": true
    }
   },
   "source": [
    "## 3. Classify the reaction data into reactant, transition state, and product using a Neural Network\n",
    "\n",
    "Use the same data as before, but now set up a neural network using PyTorch for this classification task. Train the network and use appropriate plots to show your results. "
   ]
  },
  {
   "cell_type": "markdown",
   "id": "1bb87929",
   "metadata": {},
   "source": [
    "### Generating training and testing data"
   ]
  },
  {
   "cell_type": "code",
   "execution_count": 13,
   "id": "ad6dbb5a",
   "metadata": {},
   "outputs": [
    {
     "name": "stdout",
     "output_type": "stream",
     "text": [
      "{'r', 'pc', 'ts', 'rcu', 'rcc'}\n"
     ]
    }
   ],
   "source": [
    "#test for what types of geometry labels are present\n",
    "\n",
    "print(set(df['geometry'].to_numpy()))"
   ]
  },
  {
   "cell_type": "markdown",
   "id": "67e52a24",
   "metadata": {},
   "source": [
    "String labels present:\n",
    "\n",
    "  - ts  =  Transition state\n",
    "  - r   =  Reactant conformers\n",
    "  - rcc  =  Reactant complex constrained conformers\n",
    "  - rcu  =  Reactant complex unconstrained conformers\n",
    "  - pc  =  Product conformers\n",
    "  \n",
    "We want to create an array of indices for products, reactants and transition states:"
   ]
  },
  {
   "cell_type": "code",
   "execution_count": 14,
   "id": "1c733cd4",
   "metadata": {},
   "outputs": [],
   "source": [
    "#convert geometry column to an array\n",
    "geo_array=df['geometry'].to_numpy()\n",
    "\n",
    "geo_types=np.zeros(len(geo_array)) #set NaN values to 0\n",
    "\n",
    "for n in range(len(geo_array)):\n",
    "    if geo_array[n]=='ts': \n",
    "        geo_types[n]=1 #transition state \n",
    "        \n",
    "    elif geo_array[n]=='rcu' or geo_array[n]=='r' or geo_array[n]=='rcc': \n",
    "        geo_types[n]=0 #reactant\n",
    "        \n",
    "    else:\n",
    "        geo_types[n]=2 #product"
   ]
  },
  {
   "cell_type": "markdown",
   "id": "0039f7ab",
   "metadata": {},
   "source": [
    "Indices: \n",
    "\n",
    "- 0 = reactant\n",
    "- 1 = transition state\n",
    "- 2 = product"
   ]
  },
  {
   "cell_type": "code",
   "execution_count": 15,
   "id": "e1a131ef",
   "metadata": {},
   "outputs": [
    {
     "name": "stdout",
     "output_type": "stream",
     "text": [
      "(81570, 63)\n",
      "(81570,)\n"
     ]
    }
   ],
   "source": [
    "print(np.shape(xyz))\n",
    "print(np.shape(geo_types))"
   ]
  },
  {
   "cell_type": "code",
   "execution_count": 16,
   "id": "2fcc13de",
   "metadata": {},
   "outputs": [],
   "source": [
    "import torch\n",
    "from torch.utils.data import DataLoader, TensorDataset"
   ]
  },
  {
   "cell_type": "markdown",
   "id": "13bf41db",
   "metadata": {},
   "source": [
    "From now one, use variable names X and Y for ease. X refers to the xyz coordinate input data, whereas Y refers to the output indices (0,1,2)."
   ]
  },
  {
   "cell_type": "code",
   "execution_count": 17,
   "id": "ffa9fa13",
   "metadata": {},
   "outputs": [
    {
     "name": "stdout",
     "output_type": "stream",
     "text": [
      "torch.float32\n",
      "torch.float32\n"
     ]
    }
   ],
   "source": [
    "Y=torch.tensor(geo_types, dtype=torch.float32)\n",
    "X=torch.tensor(xyz, dtype=torch.float32)\n",
    "\n",
    "print(X.dtype)\n",
    "print(Y.dtype)"
   ]
  },
  {
   "cell_type": "code",
   "execution_count": 18,
   "id": "3190095c",
   "metadata": {},
   "outputs": [
    {
     "name": "stdout",
     "output_type": "stream",
     "text": [
      "16314\n",
      "52204\n"
     ]
    }
   ],
   "source": [
    "## Splitting the data into train and test\n",
    "from sklearn.model_selection import train_test_split\n",
    "X_train, X_test, Y_train, Y_test = train_test_split(X, Y, test_size=0.2)\n",
    "\n",
    "# Split the train data into train and validation sets\n",
    "X_train, X_val, Y_train, Y_val = train_test_split(X_train, Y_train, test_size=0.2)\n",
    "\n",
    "Y_train = Y_train.type(torch.LongTensor)\n",
    "Y_test = Y_test.type(torch.LongTensor)\n",
    "\n",
    "print(len(X_test))\n",
    "print(len(X_train))"
   ]
  },
  {
   "cell_type": "markdown",
   "id": "a8da9b4d",
   "metadata": {},
   "source": [
    "Create dataloaders for the test and train data:"
   ]
  },
  {
   "cell_type": "code",
   "execution_count": 19,
   "id": "38b779b2",
   "metadata": {},
   "outputs": [],
   "source": [
    "dataset_test = TensorDataset(X_test, Y_test)\n",
    "dataloader_test  =  DataLoader(dataset_test, batch_size=100, shuffle=True)"
   ]
  },
  {
   "cell_type": "code",
   "execution_count": 20,
   "id": "df91dfd5",
   "metadata": {},
   "outputs": [],
   "source": [
    "dataset_train = TensorDataset(X_train, Y_train)\n",
    "dataloader_train  =  DataLoader(dataset_train, batch_size=256, shuffle=True)"
   ]
  },
  {
   "cell_type": "code",
   "execution_count": 21,
   "id": "17c200e5",
   "metadata": {},
   "outputs": [],
   "source": [
    "for i,data in enumerate(dataloader_train):\n",
    "    xtrain      = data[0]     \n",
    "    ytrain      = data[1]                    # train labels\n",
    "    ytrain = ytrain.type(torch.LongTensor)\n",
    "\n",
    "for i,data in enumerate(dataloader_test):      \n",
    "    xtest        = data[0]     \n",
    "    xtest_conv   = data[0]                 \n",
    "    ytest=data[1]                           # test labels\n",
    "    ytest = ytest.type(torch.LongTensor)"
   ]
  },
  {
   "cell_type": "markdown",
   "id": "bce9fd23",
   "metadata": {},
   "source": [
    "### Assembling the neural network\n",
    "\n",
    "When building the neural network, a similar structure to the one used in the pytorch ML workshop is used."
   ]
  },
  {
   "cell_type": "code",
   "execution_count": 22,
   "id": "6b73b838",
   "metadata": {},
   "outputs": [],
   "source": [
    "import torch.nn as nn\n",
    "import torch.nn.functional as F"
   ]
  },
  {
   "cell_type": "code",
   "execution_count": 23,
   "id": "714237ea",
   "metadata": {},
   "outputs": [],
   "source": [
    "class NN(nn.Module):    # this class inherits from nn.Module\n",
    "    def __init__(self, sample_size):\n",
    "        super(NN, self).__init__() #this calls the constructor of the parent class nn.Module\n",
    "        \n",
    "        # define network layers\n",
    "        self.fc1 = nn.Linear(sample_size, 40)   # nn.Linear used as constructor arguments\n",
    "        self.fc2 = nn.Linear(40, 20)\n",
    "        self.fc3 = nn.Linear(20, 20)\n",
    "        self.fc4 = nn.Linear(20, 3)    # we want a final output of 3 (indices 0,1,2 possible as output)\n",
    "        torch.manual_seed(4)           # generating numbers changes the state of the random number generator.\n",
    "                                       # we thus have to set the seed back\n",
    "        \n",
    "    def forward(self,x):\n",
    "        x = torch.relu(self.fc1(x))  \n",
    "        x = torch.relu(self.fc2(x))\n",
    "        x = torch.relu(self.fc3(x))\n",
    "        x = self.fc4(x)\n",
    "        return x"
   ]
  },
  {
   "cell_type": "markdown",
   "id": "65e5ce0c",
   "metadata": {},
   "source": [
    "Our input xyz array has 63 columns, therefore use a sample size of 63 when initialising the network."
   ]
  },
  {
   "cell_type": "code",
   "execution_count": 24,
   "id": "1f0f94e8",
   "metadata": {},
   "outputs": [],
   "source": [
    "net = NN(63) #sample_size=63"
   ]
  },
  {
   "cell_type": "code",
   "execution_count": 25,
   "id": "75a9595d",
   "metadata": {},
   "outputs": [],
   "source": [
    "import torch.optim as optim"
   ]
  },
  {
   "cell_type": "code",
   "execution_count": 26,
   "id": "af040b18",
   "metadata": {},
   "outputs": [],
   "source": [
    "# function taken from ML workshop 3\n",
    "\n",
    "def class_accuracy(output,y):\n",
    "    '''If np.argmax(out,axis=1)-y is non-zero, i.e. label y is 9 and prediction is 5 then \n",
    "       diff is incremented by 1, i.e. every time there is a mismatch between prediction and label.\n",
    "       The ratio diff/np.size(y) gives us the ratio of false predictions over the total number of datapoints.\n",
    "       One minus that gives the model accuracy.\n",
    "    '''\n",
    "    output = output.cpu().detach().numpy()    # no need for the .cpu() here as we are working with cpu tensors\n",
    "    y      = y.cpu().detach().numpy()\n",
    "    diff   = np.count_nonzero(np.argmax(output,axis=1)-y) # np.argmax returns the index/indices of max value(s)\n",
    "                                                        # along specified axis\n",
    "    return (1-(diff/np.size(y)))*100"
   ]
  },
  {
   "cell_type": "code",
   "execution_count": 27,
   "id": "7b417691",
   "metadata": {},
   "outputs": [
    {
     "data": {
      "text/plain": [
       "NN(\n",
       "  (fc1): Linear(in_features=63, out_features=40, bias=True)\n",
       "  (fc2): Linear(in_features=40, out_features=20, bias=True)\n",
       "  (fc3): Linear(in_features=20, out_features=20, bias=True)\n",
       "  (fc4): Linear(in_features=20, out_features=3, bias=True)\n",
       ")"
      ]
     },
     "execution_count": 27,
     "metadata": {},
     "output_type": "execute_result"
    }
   ],
   "source": [
    "net"
   ]
  },
  {
   "cell_type": "markdown",
   "id": "12638624",
   "metadata": {},
   "source": [
    "### Training the model"
   ]
  },
  {
   "cell_type": "markdown",
   "id": "5831745b",
   "metadata": {},
   "source": [
    "Two key factors when training our model are the number of epochs and the learning rate, lr. We will vary both of these parameters to find achieve optimal results. The reasoning behind the resulting choice for num_epochs and lr can be found in section 4."
   ]
  },
  {
   "cell_type": "markdown",
   "id": "b715827b",
   "metadata": {},
   "source": [
    "We start by tracking the accuracy and loss over 250 epochs:"
   ]
  },
  {
   "cell_type": "code",
   "execution_count": 98,
   "id": "60d2c9cf",
   "metadata": {
    "scrolled": false
   },
   "outputs": [],
   "source": [
    "num_epochs = 250\n",
    "data_list=[]\n",
    "\n",
    "criterion = nn.CrossEntropyLoss()\n",
    "\n",
    "optimizer = optim.SGD(net.parameters(), lr=5*10**-3, momentum=0.9)\n",
    "\n",
    "for epoch in range(num_epochs): \n",
    "    for i,data in enumerate(dataloader_train):\n",
    "        # Load in the training datapoints\n",
    "        x=data[0]                 \n",
    "        y=data[1]   \n",
    "        optimizer.zero_grad()\n",
    "        output = net(x)\n",
    "        loss = criterion(output,y) \n",
    "        loss.backward()\n",
    "        optimizer.step()\n",
    "                   \n",
    "        if epoch % 10 == 0 and i==0:\n",
    "            # evety 100 epochs after the first batch \n",
    "            acc        = class_accuracy(output,y)\n",
    "            outputtest = net(xtest)\n",
    "            loss_test  = criterion(outputtest,ytest)\n",
    "            acc_test   = class_accuracy(outputtest,ytest)\n",
    "            # print(f'epoch {epoch}/{num_epochs}, accuracy train {acc:.2f} %, loss train, {loss.item():.5f}, accuracy test {acc_test:.2f} %, loss test, {loss_test.item():.5f}')\n",
    "            \n",
    "            d=np.array([acc, loss.item(), acc_test, loss_test.item()])\n",
    "            data_list.append(d)\n",
    "\n",
    "data_array=np.array(data_list)\n",
    "df_epochs=pd.DataFrame(data_array, index=None, columns=np.array(['Accuracy train', 'Loss train', 'Accuracy test', 'Loss test']))\n",
    "\n",
    "#df.to_excel(\"data.xlsx\")\n",
    "            "
   ]
  },
  {
   "cell_type": "code",
   "execution_count": 101,
   "id": "e2d6895d",
   "metadata": {},
   "outputs": [
    {
     "data": {
      "text/html": [
       "<div>\n",
       "<style scoped>\n",
       "    .dataframe tbody tr th:only-of-type {\n",
       "        vertical-align: middle;\n",
       "    }\n",
       "\n",
       "    .dataframe tbody tr th {\n",
       "        vertical-align: top;\n",
       "    }\n",
       "\n",
       "    .dataframe thead th {\n",
       "        text-align: right;\n",
       "    }\n",
       "</style>\n",
       "<table border=\"1\" class=\"dataframe\">\n",
       "  <thead>\n",
       "    <tr style=\"text-align: right;\">\n",
       "      <th></th>\n",
       "      <th>Accuracy train</th>\n",
       "      <th>Loss train</th>\n",
       "      <th>Accuracy test</th>\n",
       "      <th>Loss test</th>\n",
       "    </tr>\n",
       "  </thead>\n",
       "  <tbody>\n",
       "    <tr>\n",
       "      <th>0</th>\n",
       "      <td>36.328125</td>\n",
       "      <td>1.066499</td>\n",
       "      <td>42.857143</td>\n",
       "      <td>1.053800</td>\n",
       "    </tr>\n",
       "    <tr>\n",
       "      <th>1</th>\n",
       "      <td>87.500000</td>\n",
       "      <td>0.287421</td>\n",
       "      <td>92.857143</td>\n",
       "      <td>0.201123</td>\n",
       "    </tr>\n",
       "    <tr>\n",
       "      <th>2</th>\n",
       "      <td>87.109375</td>\n",
       "      <td>0.240552</td>\n",
       "      <td>85.714286</td>\n",
       "      <td>0.166677</td>\n",
       "    </tr>\n",
       "    <tr>\n",
       "      <th>3</th>\n",
       "      <td>87.890625</td>\n",
       "      <td>0.238001</td>\n",
       "      <td>92.857143</td>\n",
       "      <td>0.138031</td>\n",
       "    </tr>\n",
       "    <tr>\n",
       "      <th>4</th>\n",
       "      <td>85.937500</td>\n",
       "      <td>0.244481</td>\n",
       "      <td>92.857143</td>\n",
       "      <td>0.101289</td>\n",
       "    </tr>\n",
       "  </tbody>\n",
       "</table>\n",
       "</div>"
      ],
      "text/plain": [
       "   Accuracy train  Loss train  Accuracy test  Loss test\n",
       "0       36.328125    1.066499      42.857143   1.053800\n",
       "1       87.500000    0.287421      92.857143   0.201123\n",
       "2       87.109375    0.240552      85.714286   0.166677\n",
       "3       87.890625    0.238001      92.857143   0.138031\n",
       "4       85.937500    0.244481      92.857143   0.101289"
      ]
     },
     "execution_count": 101,
     "metadata": {},
     "output_type": "execute_result"
    }
   ],
   "source": [
    "df_epochs.head()"
   ]
  },
  {
   "cell_type": "markdown",
   "id": "cb9d4cce",
   "metadata": {},
   "source": [
    "Using 10 epochs for training, the learning rate is varied between 0.01 and 5E-4 to maximise the predictive accuracy."
   ]
  },
  {
   "cell_type": "code",
   "execution_count": null,
   "id": "e7cf032d",
   "metadata": {},
   "outputs": [],
   "source": [
    "num_epochs = 11\n",
    "data_list=[]\n",
    "\n",
    "for n in range(21):\n",
    "\n",
    "    net = NN(63)\n",
    "    net\n",
    "\n",
    "    criterion = nn.CrossEntropyLoss()\n",
    "    \n",
    "    learning_rate=5E-4+(4.75E-4*n)\n",
    "\n",
    "    optimizer = optim.SGD(net.parameters(), lr=learning_rate, momentum=0.9)\n",
    "\n",
    "    for epoch in range(num_epochs): \n",
    "        for i,data in enumerate(dataloader_train):\n",
    "            # Load in the training datapoints\n",
    "            x=data[0]                 \n",
    "            y=data[1]   \n",
    "            optimizer.zero_grad()\n",
    "            output = net(x)\n",
    "            loss = criterion(output,y) \n",
    "            loss.backward()\n",
    "            optimizer.step()\n",
    "\n",
    "    acc        = class_accuracy(output,y)\n",
    "    outputtest = net(xtest)\n",
    "    loss_test  = criterion(outputtest,ytest)\n",
    "    acc_test   = class_accuracy(outputtest,ytest)\n",
    "    #print(f'epoch {epoch}/{num_epochs}, accuracy train {acc:.2f} %, loss train, {loss.item():.5f}, accuracy test {acc_test:.2f} %, loss test, {loss_test.item():.5f}')\n",
    "\n",
    "    d=np.array([learning_rate, acc_test, loss_test.item()])\n",
    "    data_list.append(d)\n",
    "    \n",
    "    #print('Run: ' + str(n) + '/20')\n",
    "    \n",
    "data_array=np.array(data_list)\n",
    "df_lr=pd.DataFrame(data_array, index=None, columns=np.array(['Learning rate', 'Accuracy test', 'Loss test']))\n"
   ]
  },
  {
   "cell_type": "code",
   "execution_count": null,
   "id": "e037c8c5",
   "metadata": {},
   "outputs": [],
   "source": [
    "df_lr.head()"
   ]
  },
  {
   "cell_type": "markdown",
   "id": "135a5e1d",
   "metadata": {},
   "source": [
    "A learning rate of 5E-3 was chosen (see section 4 for justification)."
   ]
  },
  {
   "cell_type": "markdown",
   "id": "ab3bf5dd",
   "metadata": {},
   "source": [
    "### Testing the model\n",
    "\n",
    "Using the chosen optimised parameters of num_epochs=16 and lr=5E-3, the Neural Network was trained and tested 51 times, as shown below:"
   ]
  },
  {
   "cell_type": "code",
   "execution_count": null,
   "id": "4e6772f8",
   "metadata": {},
   "outputs": [],
   "source": [
    "num_epochs = 16\n",
    "data_list=[]\n",
    "\n",
    "for n in range(51):\n",
    "    \n",
    "    X_train, X_test, Y_train, Y_test = train_test_split(X, Y, test_size=0.2)\n",
    "\n",
    "    # Split the train data into train and validation sets\n",
    "    X_train, X_val, Y_train, Y_val = train_test_split(X_train, Y_train, test_size=0.2)\n",
    "\n",
    "    Y_train = Y_train.type(torch.LongTensor)\n",
    "    Y_test = Y_test.type(torch.LongTensor)\n",
    "\n",
    "    dataset_test = TensorDataset(X_test, Y_test)\n",
    "    dataloader_test  =  DataLoader(dataset_test, batch_size=100, shuffle=True)\n",
    "\n",
    "    dataset_train = TensorDataset(X_train, Y_train)\n",
    "    dataloader_train  =  DataLoader(dataset_train, batch_size=256, shuffle=True)\n",
    "    \n",
    "    for i,data in enumerate(dataloader_train):\n",
    "        xtrain      = data[0]     \n",
    "        ytrain      = data[1]                    # train labels\n",
    "        ytrain = ytrain.type(torch.LongTensor)\n",
    "\n",
    "    for i,data in enumerate(dataloader_test):      \n",
    "        xtest        = data[0]     \n",
    "        xtest_conv   = data[0]                 \n",
    "        ytest=data[1]                           # test labels\n",
    "        ytest = ytest.type(torch.LongTensor)\n",
    "\n",
    "    net = NN(63)\n",
    "    net\n",
    "\n",
    "    criterion = nn.CrossEntropyLoss()\n",
    "    \n",
    "    optimizer = optim.SGD(net.parameters(), lr=5E-3, momentum=0.9)\n",
    "\n",
    "    for epoch in range(num_epochs): \n",
    "        for i,data in enumerate(dataloader_train):\n",
    "            # Load in the training datapoints\n",
    "            x=data[0]                 \n",
    "            y=data[1]   \n",
    "            optimizer.zero_grad()\n",
    "            output = net(x)\n",
    "            loss = criterion(output,y) \n",
    "            loss.backward()\n",
    "            optimizer.step()\n",
    "\n",
    "    acc        = class_accuracy(output,y)\n",
    "    outputtest = net(xtest)\n",
    "    loss_test  = criterion(outputtest,ytest)\n",
    "    acc_test   = class_accuracy(outputtest,ytest)\n",
    "    #print(f'epoch {epoch}/{num_epochs}, accuracy train {acc:.2f} %, loss train, {loss.item():.5f}, accuracy test {acc_test:.2f} %, loss test, {loss_test.item():.5f}')\n",
    "\n",
    "    d=np.array([acc_test, loss_test.item()])\n",
    "    data_list.append(d)\n",
    "    \n",
    "    #print('Run: ' + str(n) + '/50')\n",
    "    \n",
    "data_array=np.array(data_list)\n",
    "df_NN=pd.DataFrame(data_array, index=None, columns=np.array(['Accuracy test', 'Loss test']))\n"
   ]
  },
  {
   "cell_type": "code",
   "execution_count": 28,
   "id": "d89628d8",
   "metadata": {},
   "outputs": [],
   "source": [
    "df_NN=pd.DataFrame(data_array, index=None, columns=np.array(['Accuracy test', 'Loss test']))"
   ]
  },
  {
   "cell_type": "code",
   "execution_count": 29,
   "id": "3ffe8296",
   "metadata": {},
   "outputs": [
    {
     "data": {
      "text/plain": [
       "96.49859943977593"
      ]
     },
     "execution_count": 29,
     "metadata": {},
     "output_type": "execute_result"
    }
   ],
   "source": [
    "av_accuracy=np.average(df_NN['Accuracy test'].to_numpy())\n",
    "av_accuracy"
   ]
  },
  {
   "cell_type": "code",
   "execution_count": 31,
   "id": "4d6e65d0",
   "metadata": {},
   "outputs": [
    {
     "data": {
      "text/plain": [
       "0.6442577030812323"
      ]
     },
     "execution_count": 31,
     "metadata": {},
     "output_type": "execute_result"
    }
   ],
   "source": [
    "error=(np.std(df_NN['Accuracy test'].to_numpy()))/np.sqrt(50)\n",
    "error"
   ]
  },
  {
   "cell_type": "code",
   "execution_count": 32,
   "id": "e1ff06bc",
   "metadata": {},
   "outputs": [
    {
     "data": {
      "text/plain": [
       "0.07272084393223528"
      ]
     },
     "execution_count": 32,
     "metadata": {},
     "output_type": "execute_result"
    }
   ],
   "source": [
    "av_loss=np.average(df_NN['Loss test'].to_numpy())\n",
    "av_loss"
   ]
  },
  {
   "cell_type": "code",
   "execution_count": 33,
   "id": "d578bcf1",
   "metadata": {},
   "outputs": [
    {
     "data": {
      "text/plain": [
       "0.010127415099448834"
      ]
     },
     "execution_count": 33,
     "metadata": {},
     "output_type": "execute_result"
    }
   ],
   "source": [
    "error_loss=(np.std(df_NN['Loss test'].to_numpy()))/np.sqrt(50)\n",
    "error_loss"
   ]
  },
  {
   "cell_type": "markdown",
   "id": "274141bd",
   "metadata": {},
   "source": [
    "<div class=\"alert alert-info\">\n",
    "    <b>Key result:</b>  \n",
    "\n",
    "Calculated accuracy of our neural network classifier model: \n",
    "\n",
    "$success=96.5(6) \\ \\%$\n",
    "    \n",
    "Calculated loss:\n",
    "   \n",
    "$loss=0.073(10) \\ \\%$\n",
    "    \n",
    "<div>\n"
   ]
  },
  {
   "cell_type": "markdown",
   "id": "ac1e781c",
   "metadata": {
    "deletable": false,
    "editable": false,
    "nbgrader": {
     "cell_type": "markdown",
     "checksum": "28f872f013bf60c8397ccc1646e98c58",
     "grade": false,
     "grade_id": "cell-31eb8d773b656425",
     "locked": true,
     "points": 10,
     "schema_version": 3,
     "solution": false,
     "task": true
    }
   },
   "source": [
    "## 4. Discussion of results and conclusion\n",
    "In this part of your notebook you should discuss your results using Markdown text. "
   ]
  },
  {
   "cell_type": "markdown",
   "id": "e63a47a5",
   "metadata": {},
   "source": [
    "### Random Forest"
   ]
  },
  {
   "cell_type": "markdown",
   "id": "64a245c5",
   "metadata": {},
   "source": [
    "A RanfomForest binary classifier model based on the sklearn library was assembled. The number of trees in the RF model was varied between 5 and 49 to estimate a satisfactory number of classifiers, while minimising the computational effort. The runtime required for training was also calculated for the appropriate number of estimators being used. "
   ]
  },
  {
   "cell_type": "code",
   "execution_count": 42,
   "id": "4d8cd19b",
   "metadata": {},
   "outputs": [
    {
     "data": {
      "text/plain": [
       "<AxesSubplot:title={'center':'RF predictive success as a function of the number of trees'}, xlabel='Number of trees', ylabel='Accuracy (%)'>"
      ]
     },
     "execution_count": 42,
     "metadata": {},
     "output_type": "execute_result"
    },
    {
     "data": {
      "image/png": "[encoded data removed]",
      "text/plain": [
       "<Figure size 432x288 with 1 Axes>"
      ]
     },
     "metadata": {
      "needs_background": "light"
     },
     "output_type": "display_data"
    }
   ],
   "source": [
    "RF_estimators.plot(title='RF predictive success as a function of the number of trees', x='Number of trees', y='Accuracy (%)', ylabel='Accuracy (%)', legend=False)"
   ]
  },
  {
   "cell_type": "code",
   "execution_count": 43,
   "id": "f39ba9d1",
   "metadata": {},
   "outputs": [
    {
     "data": {
      "text/plain": [
       "<AxesSubplot:title={'center':'Training runtime vs number of trees'}, xlabel='Number of trees', ylabel='Training runtime (s)'>"
      ]
     },
     "execution_count": 43,
     "metadata": {},
     "output_type": "execute_result"
    },
    {
     "data": {
      "image/png": "[encoded data removed]",
      "text/plain": [
       "<Figure size 432x288 with 1 Axes>"
      ]
     },
     "metadata": {
      "needs_background": "light"
     },
     "output_type": "display_data"
    }
   ],
   "source": [
    "RF_estimators.plot(title='Training runtime vs number of trees', x='Number of trees', y='Runtime (s)', ylabel='Training runtime (s)', legend=False)"
   ]
  },
  {
   "cell_type": "markdown",
   "id": "8e65d474",
   "metadata": {},
   "source": [
    "As can be seen in the figures above, increasing the number of trees/estimators in the RF model only very incrementally increases the accuracy of the model, as the success percentage is greater than 99.95 % for all the tested number of estimators. However, as a rule it is preferrable to have a larger number of estimators, as this is associated with generally higher predictive power. We can see that the training runtime increases approximately linearly with the number of estimators. To balance having both an adequate number of trees in the model, but also maintaining a lightweight training computation, **n_estimators=25** was chosen for the RF model. RandomForest as an algorithm does not overfit data, therefore we do not have to worry about having too many estimators."
   ]
  },
  {
   "cell_type": "markdown",
   "id": "bb7cf9b0",
   "metadata": {},
   "source": [
    "The RF classifier model was initialised, trained and tested 50 times. We can therefore calculate the overall success rate of our model, by taking the average of these 50 runs. The error will be equal to the standard deviation divided by $\\sqrt{50}$:\n",
    "\n",
    "$success=99.9891(12) \\ \\%$\n",
    "\n"
   ]
  },
  {
   "cell_type": "markdown",
   "id": "1123f593",
   "metadata": {},
   "source": [
    "The success of the model can be further evaluated using an ROC curve and confusion matrix. The code for these two graphics was taken from the ML pytorch workshop."
   ]
  },
  {
   "cell_type": "code",
   "execution_count": 44,
   "id": "07c81690",
   "metadata": {},
   "outputs": [
    {
     "data": {
      "text/html": [
       "<style>#sk-container-id-1 {color: black;background-color: white;}#sk-container-id-1 pre{padding: 0;}#sk-container-id-1 div.sk-toggleable {background-color: white;}#sk-container-id-1 label.sk-toggleable__label {cursor: pointer;display: block;width: 100%;margin-bottom: 0;padding: 0.3em;box-sizing: border-box;text-align: center;}#sk-container-id-1 label.sk-toggleable__label-arrow:before {content: \"▸\";float: left;margin-right: 0.25em;color: #696969;}#sk-container-id-1 label.sk-toggleable__label-arrow:hover:before {color: black;}#sk-container-id-1 div.sk-estimator:hover label.sk-toggleable__label-arrow:before {color: black;}#sk-container-id-1 div.sk-toggleable__content {max-height: 0;max-width: 0;overflow: hidden;text-align: left;background-color: #f0f8ff;}#sk-container-id-1 div.sk-toggleable__content pre {margin: 0.2em;color: black;border-radius: 0.25em;background-color: #f0f8ff;}#sk-container-id-1 input.sk-toggleable__control:checked~div.sk-toggleable__content {max-height: 200px;max-width: 100%;overflow: auto;}#sk-container-id-1 input.sk-toggleable__control:checked~label.sk-toggleable__label-arrow:before {content: \"▾\";}#sk-container-id-1 div.sk-estimator input.sk-toggleable__control:checked~label.sk-toggleable__label {background-color: #d4ebff;}#sk-container-id-1 div.sk-label input.sk-toggleable__control:checked~label.sk-toggleable__label {background-color: #d4ebff;}#sk-container-id-1 input.sk-hidden--visually {border: 0;clip: rect(1px 1px 1px 1px);clip: rect(1px, 1px, 1px, 1px);height: 1px;margin: -1px;overflow: hidden;padding: 0;position: absolute;width: 1px;}#sk-container-id-1 div.sk-estimator {font-family: monospace;background-color: #f0f8ff;border: 1px dotted black;border-radius: 0.25em;box-sizing: border-box;margin-bottom: 0.5em;}#sk-container-id-1 div.sk-estimator:hover {background-color: #d4ebff;}#sk-container-id-1 div.sk-parallel-item::after {content: \"\";width: 100%;border-bottom: 1px solid gray;flex-grow: 1;}#sk-container-id-1 div.sk-label:hover label.sk-toggleable__label {background-color: #d4ebff;}#sk-container-id-1 div.sk-serial::before {content: \"\";position: absolute;border-left: 1px solid gray;box-sizing: border-box;top: 0;bottom: 0;left: 50%;z-index: 0;}#sk-container-id-1 div.sk-serial {display: flex;flex-direction: column;align-items: center;background-color: white;padding-right: 0.2em;padding-left: 0.2em;position: relative;}#sk-container-id-1 div.sk-item {position: relative;z-index: 1;}#sk-container-id-1 div.sk-parallel {display: flex;align-items: stretch;justify-content: center;background-color: white;position: relative;}#sk-container-id-1 div.sk-item::before, #sk-container-id-1 div.sk-parallel-item::before {content: \"\";position: absolute;border-left: 1px solid gray;box-sizing: border-box;top: 0;bottom: 0;left: 50%;z-index: -1;}#sk-container-id-1 div.sk-parallel-item {display: flex;flex-direction: column;z-index: 1;position: relative;background-color: white;}#sk-container-id-1 div.sk-parallel-item:first-child::after {align-self: flex-end;width: 50%;}#sk-container-id-1 div.sk-parallel-item:last-child::after {align-self: flex-start;width: 50%;}#sk-container-id-1 div.sk-parallel-item:only-child::after {width: 0;}#sk-container-id-1 div.sk-dashed-wrapped {border: 1px dashed gray;margin: 0 0.4em 0.5em 0.4em;box-sizing: border-box;padding-bottom: 0.4em;background-color: white;}#sk-container-id-1 div.sk-label label {font-family: monospace;font-weight: bold;display: inline-block;line-height: 1.2em;}#sk-container-id-1 div.sk-label-container {text-align: center;}#sk-container-id-1 div.sk-container {/* jupyter's `normalize.less` sets `[hidden] { display: none; }` but bootstrap.min.css set `[hidden] { display: none !important; }` so we also need the `!important` here to be able to override the default hidden behavior on the sphinx rendered scikit-learn.org. See: https://github.com/scikit-learn/scikit-learn/issues/21755 */display: inline-block !important;position: relative;}#sk-container-id-1 div.sk-text-repr-fallback {display: none;}</style><div id=\"sk-container-id-1\" class=\"sk-top-container\"><div class=\"sk-text-repr-fallback\"><pre>RandomForestClassifier(n_estimators=25)</pre><b>In a Jupyter environment, please rerun this cell to show the HTML representation or trust the notebook. <br />On GitHub, the HTML representation is unable to render, please try loading this page with nbviewer.org.</b></div><div class=\"sk-container\" hidden><div class=\"sk-item\"><div class=\"sk-estimator sk-toggleable\"><input class=\"sk-toggleable__control sk-hidden--visually\" id=\"sk-estimator-id-1\" type=\"checkbox\" checked><label for=\"sk-estimator-id-1\" class=\"sk-toggleable__label sk-toggleable__label-arrow\">RandomForestClassifier</label><div class=\"sk-toggleable__content\"><pre>RandomForestClassifier(n_estimators=25)</pre></div></div></div></div></div>"
      ],
      "text/plain": [
       "RandomForestClassifier(n_estimators=25)"
      ]
     },
     "execution_count": 44,
     "metadata": {},
     "output_type": "execute_result"
    }
   ],
   "source": [
    "xyz_train, xyz_test, geo_train, geo_test=train_test_split(xyz, geo_index, test_size=0.20)\n",
    "RF=RandomForestClassifier(n_estimators=25)\n",
    "RF.fit(xyz_train, geo_train)"
   ]
  },
  {
   "cell_type": "code",
   "execution_count": 45,
   "id": "c4e1efab",
   "metadata": {},
   "outputs": [],
   "source": [
    "true_labels=geo_test\n",
    "predictions=RF.predict(xyz_test)"
   ]
  },
  {
   "cell_type": "code",
   "execution_count": 47,
   "id": "49af2a61",
   "metadata": {},
   "outputs": [],
   "source": [
    "from sklearn.metrics import confusion_matrix, roc_curve,auc"
   ]
  },
  {
   "cell_type": "markdown",
   "id": "e64df34e",
   "metadata": {},
   "source": [
    "#### ROC curve"
   ]
  },
  {
   "cell_type": "code",
   "execution_count": 54,
   "id": "68f73b43",
   "metadata": {},
   "outputs": [
    {
     "data": {
      "image/png": "[encoded data removed]",
      "text/plain": [
       "<Figure size 432x288 with 1 Axes>"
      ]
     },
     "metadata": {
      "needs_background": "light"
     },
     "output_type": "display_data"
    }
   ],
   "source": [
    "# ROC curve\n",
    "\n",
    "fpr, tpr, thresholds = roc_curve(true_labels, predictions)\n",
    "roc_auc = auc(fpr, tpr)\n",
    "plt.plot(fpr, tpr, label='ROC curve (area = %0.2f)' % roc_auc)\n",
    "plt.plot([0, 1], [0, 1], 'k--') # random predictions curve\n",
    "plt.xlim([-0.1, 1.1])\n",
    "plt.ylim([-0.1, 1.1])\n",
    "plt.xlabel('False Positive Rate or (1 - Specifity)')\n",
    "plt.ylabel('True Positive Rate or (Sensitivity)')\n",
    "plt.title('Receiver Operating Characteristic')\n",
    "plt.legend(loc=\"lower right\")\n",
    "plt.show()"
   ]
  },
  {
   "cell_type": "markdown",
   "id": "05f9ede4",
   "metadata": {},
   "source": [
    "The x-axis of the ROC graph represents the false positive rate, while the y-axis represents the true positive rate. \n",
    "\n",
    "$true \\ positive \\ rate = \\frac{true \\ positives}{true \\ positives + false \\ negatives}$\n",
    "\n",
    "$false \\ positive \\ rate = \\frac{false \\ positives}{false \\ positives + true \\ negatives}$\n",
    "\n",
    "- For a binary classifier, a perfect model will have an ROC curve area of 1.0, while a completely random (and hence useless) model will have an area of 0.5. \n",
    "- The ROC curve for our RandomForest model shows an area of 1.00, which is indicative of a perfect classifier. \n",
    "- This implies that our binary classifier is of very high quality.\n",
    "\n",
    "\n"
   ]
  },
  {
   "cell_type": "markdown",
   "id": "5da55a57",
   "metadata": {},
   "source": [
    "#### Confusion matrix"
   ]
  },
  {
   "cell_type": "code",
   "execution_count": 52,
   "id": "6b2ea56f",
   "metadata": {},
   "outputs": [
    {
     "data": {
      "text/plain": [
       "<AxesSubplot:>"
      ]
     },
     "execution_count": 52,
     "metadata": {},
     "output_type": "execute_result"
    },
    {
     "data": {
      "image/png": "[encoded data removed]",
      "text/plain": [
       "<Figure size 432x288 with 2 Axes>"
      ]
     },
     "metadata": {
      "needs_background": "light"
     },
     "output_type": "display_data"
    }
   ],
   "source": [
    "# Plot confusion matrix\n",
    "\n",
    "cf_matrix= confusion_matrix(geo_test, RF.predict(xyz_test))\n",
    "group_names = ['True Neg','False Pos','False Neg','True Pos']\n",
    "group_counts = [\"{0:0.0f}\".format(value) for value in\n",
    "                cf_matrix.flatten()]\n",
    "group_percentages = [\"{0:.2%}\".format(value) for value in\n",
    "                     cf_matrix.flatten()/np.sum(cf_matrix)]\n",
    "labels = [f\"{v1}\\n{v2}\\n{v3}\" for v1, v2, v3 in\n",
    "          zip(group_names,group_counts,group_percentages)]\n",
    "labels = np.asarray(labels).reshape(2,2)\n",
    "sns.heatmap(cf_matrix, annot=labels, fmt='', cmap='Blues')"
   ]
  },
  {
   "cell_type": "markdown",
   "id": "0a04a16a",
   "metadata": {},
   "source": [
    "The confusion matrix further illustrates the high quality of our RF model, with 99.98 % of the test data having been predicted succesfully. Only 3 out of 16314 sets of coordinates were incorrectly predicted. Out of the correctly predicted species, 538 transition states were identified."
   ]
  },
  {
   "cell_type": "markdown",
   "id": "1322eba8",
   "metadata": {},
   "source": [
    "### Neural Network"
   ]
  },
  {
   "cell_type": "markdown",
   "id": "42ae91d3",
   "metadata": {},
   "source": [
    "The first key parameter to optimise is the number of epochs used in training. We want to have a sufficient number of epochs for high-quality prediction, but also want to avoid overfitting. Training of the neural network described in section 3 was carried out over 250 epochs, and the accuracy and loss during training was measured. During this process the learning rate was held constant at $5 \\times 10^{-3}$."
   ]
  },
  {
   "cell_type": "code",
   "execution_count": 116,
   "id": "0a2ed65f",
   "metadata": {},
   "outputs": [
    {
     "data": {
      "text/plain": [
       "<AxesSubplot:title={'center':'Accuracy during neural network training'}, xlabel='Number of epochs', ylabel='Accuracy (%)'>"
      ]
     },
     "execution_count": 116,
     "metadata": {},
     "output_type": "execute_result"
    },
    {
     "data": {
      "image/png": "[encoded data removed]",
      "text/plain": [
       "<Figure size 432x288 with 1 Axes>"
      ]
     },
     "metadata": {
      "needs_background": "light"
     },
     "output_type": "display_data"
    }
   ],
   "source": [
    "df_epochs.plot.line(title='Accuracy during neural network training', y=['Accuracy train', 'Accuracy test'], xlabel='Number of epochs', ylabel='Accuracy (%)')"
   ]
  },
  {
   "cell_type": "code",
   "execution_count": 117,
   "id": "388820ef",
   "metadata": {},
   "outputs": [
    {
     "data": {
      "text/plain": [
       "<AxesSubplot:title={'center':'Loss during neural network training'}, xlabel='Number of epochs'>"
      ]
     },
     "execution_count": 117,
     "metadata": {},
     "output_type": "execute_result"
    },
    {
     "data": {
      "image/png": "[encoded data removed]",
      "text/plain": [
       "<Figure size 432x288 with 1 Axes>"
      ]
     },
     "metadata": {
      "needs_background": "light"
     },
     "output_type": "display_data"
    }
   ],
   "source": [
    "df_epochs.plot.line(title='Loss during neural network training', y=['Loss train', 'Loss test'], xlabel='Number of epochs')"
   ]
  },
  {
   "cell_type": "markdown",
   "id": "046dfb06",
   "metadata": {},
   "source": [
    "As can be seen from these figures, 100% accuracy in the test set is achieved after 8 epochs, and a test loss of <0.02 is achieved after 16 epochs. After 16 epochs, the train accuracy is >96 %, and the train loss is <0.1. This implies that 16 epochs is a suitable number for training."
   ]
  },
  {
   "cell_type": "markdown",
   "id": "b023e20e",
   "metadata": {},
   "source": [
    "#### Learning rate\n",
    "\n",
    "The learning rate was varied between 0.01 and 5E-4. The test accuracy approached 100 % for around 5E-3, and hence this was chosen as the parameter lr in final calculations."
   ]
  },
  {
   "cell_type": "markdown",
   "id": "931822a8",
   "metadata": {},
   "source": [
    "#### Performance of the network\n",
    "\n",
    "The neural network was initialised, trained and tested 50 times. The average accuracy using the given parameters was found to be 96.5(6) %. The average loss was found as 0.073(10)."
   ]
  },
  {
   "cell_type": "markdown",
   "id": "4e45b05a",
   "metadata": {},
   "source": [
    "### Comparing runtimes\n",
    "\n",
    "The runtime of the RF binary classifier is 6.3381 seconds for the given test set containing 16314 sets of coordinates. The runtime of the neural network is 36.3989 seconds for the same size of test set (16 epochs and a learning rate of 5E-3 are used for training). \n",
    "\n",
    "This suggests that the neural network is ~5.7 times slower than the RF binary classifier for the same dataset.\n",
    "\n",
    "Calculation of the individual runtimes can be found in the appendix."
   ]
  },
  {
   "cell_type": "markdown",
   "id": "09fecce0",
   "metadata": {},
   "source": [
    "### Conclusions"
   ]
  },
  {
   "cell_type": "markdown",
   "id": "cea042af",
   "metadata": {},
   "source": [
    "This report investigated two machine learning algorithms as a classification method for the QMrxn20 dataset. A RandomForest binary classifier was implemented to predict whether, given a set of atomic coordinaters, a species is a transition state or not. The model used 25 estimators and was shown to have an accuracy of 99.9891(12) %. The confusion matrix and ROC curve support the classifier as a high-quality predictive model. A neural network was constructed in pytorch, with an aim to classify species as products, reactants or transition states, given an appropriate atomic coordinates. The neural network used four layers, and training was performed over 16 epochs using a learning rate of 5E-3. The neural network classifier was shown to have an accuracy of 96.5(6) % and an average loss of 0.073(10).\n",
    "\n",
    "Overall, both of the ML models tested in this investigation are high-quality and powerful classification algorithms for given format of input data. If it is only desired to identify transition states from an unseen dataset, it is preferable to use the RF method, as it has a higher level of accuracy than the neural network, as well as a lower computational cost. The neural network should be applied if classification into transition state, product and reactant is desired. Using both methods in conjunction would lead to a high level of predictive confidence, as both models have an accuracy of >95 % respectively. "
   ]
  },
  {
   "cell_type": "markdown",
   "id": "f02419e0",
   "metadata": {},
   "source": [
    "## Appendix"
   ]
  },
  {
   "cell_type": "markdown",
   "id": "6210f1ed",
   "metadata": {},
   "source": [
    "### Code runtimes"
   ]
  },
  {
   "cell_type": "code",
   "execution_count": 49,
   "id": "f7ecea2a",
   "metadata": {},
   "outputs": [
    {
     "name": "stdout",
     "output_type": "stream",
     "text": [
      "36.39890789985657\n"
     ]
    }
   ],
   "source": [
    "#Neural network\n",
    "\n",
    "num_epochs = 16\n",
    "\n",
    "X_train, X_test, Y_train, Y_test = train_test_split(X, Y, test_size=0.2)\n",
    "\n",
    "# Split the train data into train and validation sets\n",
    "X_train, X_val, Y_train, Y_val = train_test_split(X_train, Y_train, test_size=0.2)\n",
    "\n",
    "Y_train = Y_train.type(torch.LongTensor)\n",
    "Y_test = Y_test.type(torch.LongTensor)\n",
    "\n",
    "dataset_test = TensorDataset(X_test, Y_test)\n",
    "dataloader_test  =  DataLoader(dataset_test, batch_size=100, shuffle=True)\n",
    "\n",
    "dataset_train = TensorDataset(X_train, Y_train)\n",
    "dataloader_train  =  DataLoader(dataset_train, batch_size=256, shuffle=True)\n",
    "\n",
    "for i,data in enumerate(dataloader_train):\n",
    "    xtrain      = data[0]     \n",
    "    ytrain      = data[1]                    # train labels\n",
    "    ytrain = ytrain.type(torch.LongTensor)\n",
    "\n",
    "for i,data in enumerate(dataloader_test):      \n",
    "    xtest        = data[0]     \n",
    "    xtest_conv   = data[0]                 \n",
    "    ytest=data[1]                           # test labels\n",
    "    ytest = ytest.type(torch.LongTensor)\n",
    "\n",
    "net = NN(63)\n",
    "net\n",
    "\n",
    "criterion = nn.CrossEntropyLoss()\n",
    "\n",
    "optimizer = optim.SGD(net.parameters(), lr=5E-3, momentum=0.9)\n",
    "\n",
    "start_time = time.time()\n",
    "\n",
    "for epoch in range(num_epochs): \n",
    "    for i,data in enumerate(dataloader_train):\n",
    "        # Load in the training datapoints\n",
    "        x=data[0]                 \n",
    "        y=data[1]   \n",
    "        optimizer.zero_grad()\n",
    "        output = net(x)\n",
    "        loss = criterion(output,y) \n",
    "        loss.backward()\n",
    "        optimizer.step()\n",
    "\n",
    "acc        = class_accuracy(output,y)\n",
    "outputtest = net(xtest)\n",
    "loss_test  = criterion(outputtest,ytest)\n",
    "acc_test   = class_accuracy(outputtest,ytest)\n",
    "\n",
    "t=(time.time() - start_time)\n",
    "\n",
    "print(t)"
   ]
  },
  {
   "cell_type": "code",
   "execution_count": 51,
   "id": "814432df",
   "metadata": {},
   "outputs": [
    {
     "name": "stdout",
     "output_type": "stream",
     "text": [
      "6.338109016418457\n"
     ]
    }
   ],
   "source": [
    "#RandomForest\n",
    "\n",
    "xyz_train, xyz_test, geo_train, geo_test=train_test_split(xyz, geo_index, test_size=0.20)\n",
    "\n",
    "start_time = time.time() #start timer\n",
    "\n",
    "RF=RandomForestClassifier(n_estimators=n) #reinitialise the RF classifier\n",
    "RF.fit(xyz_train, geo_train)\n",
    "\n",
    "t=(time.time() - start_time) #end timer\n",
    "\n",
    "print(t)"
   ]
  },
  {
   "cell_type": "code",
   "execution_count": null,
   "id": "3be3afa1",
   "metadata": {},
   "outputs": [],
   "source": []
  }
 ],
 "metadata": {
  "kernelspec": {
   "display_name": "Python 3 (ipykernel)",
   "language": "python",
   "name": "python3"
  },
  "language_info": {
   "codemirror_mode": {
    "name": "ipython",
    "version": 3
   },
   "file_extension": ".py",
   "mimetype": "text/x-python",
   "name": "python",
   "nbconvert_exporter": "python",
   "pygments_lexer": "ipython3",
   "version": "3.9.12"
  }
 },
 "nbformat": 4,
 "nbformat_minor": 5
}
